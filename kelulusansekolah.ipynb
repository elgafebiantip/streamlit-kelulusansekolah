{
 "cells": [
  {
   "attachments": {},
   "cell_type": "markdown",
   "metadata": {},
   "source": [
    "1. Tentukan Library yang digunakan"
   ]
  },
  {
   "cell_type": "code",
   "execution_count": 1,
   "metadata": {},
   "outputs": [],
   "source": [
    "import numpy as np\n",
    "import pandas as pd\n",
    "from sklearn.preprocessing import StandardScaler\n",
    "from sklearn.model_selection import train_test_split\n",
    "from sklearn import svm\n",
    "from sklearn.metrics import accuracy_score"
   ]
  },
  {
   "attachments": {},
   "cell_type": "markdown",
   "metadata": {},
   "source": [
    "2. Load Data Set"
   ]
  },
  {
   "cell_type": "code",
   "execution_count": 2,
   "metadata": {},
   "outputs": [],
   "source": [
    "dataset = pd.read_csv('kelulusansekolah.csv')"
   ]
  },
  {
   "cell_type": "code",
   "execution_count": 3,
   "metadata": {},
   "outputs": [
    {
     "data": {
      "text/html": [
       "<div>\n",
       "<style scoped>\n",
       "    .dataframe tbody tr th:only-of-type {\n",
       "        vertical-align: middle;\n",
       "    }\n",
       "\n",
       "    .dataframe tbody tr th {\n",
       "        vertical-align: top;\n",
       "    }\n",
       "\n",
       "    .dataframe thead th {\n",
       "        text-align: right;\n",
       "    }\n",
       "</style>\n",
       "<table border=\"1\" class=\"dataframe\">\n",
       "  <thead>\n",
       "    <tr style=\"text-align: right;\">\n",
       "      <th></th>\n",
       "      <th>IPS1</th>\n",
       "      <th>IPS2</th>\n",
       "      <th>IPS3</th>\n",
       "      <th>IPS4</th>\n",
       "      <th>IPS5</th>\n",
       "      <th>IPS6</th>\n",
       "      <th>IPS7</th>\n",
       "      <th>IPS8</th>\n",
       "      <th>IPK</th>\n",
       "      <th>Status Kelulusan</th>\n",
       "    </tr>\n",
       "  </thead>\n",
       "  <tbody>\n",
       "    <tr>\n",
       "      <th>0</th>\n",
       "      <td>2.76</td>\n",
       "      <td>2.80</td>\n",
       "      <td>3.20</td>\n",
       "      <td>3.17</td>\n",
       "      <td>2.98</td>\n",
       "      <td>3.00</td>\n",
       "      <td>3.03</td>\n",
       "      <td>2.0</td>\n",
       "      <td>2.87</td>\n",
       "      <td>0</td>\n",
       "    </tr>\n",
       "    <tr>\n",
       "      <th>1</th>\n",
       "      <td>3.00</td>\n",
       "      <td>3.30</td>\n",
       "      <td>3.14</td>\n",
       "      <td>3.14</td>\n",
       "      <td>2.84</td>\n",
       "      <td>3.13</td>\n",
       "      <td>3.25</td>\n",
       "      <td>2.0</td>\n",
       "      <td>2.98</td>\n",
       "      <td>0</td>\n",
       "    </tr>\n",
       "    <tr>\n",
       "      <th>2</th>\n",
       "      <td>3.50</td>\n",
       "      <td>3.30</td>\n",
       "      <td>3.70</td>\n",
       "      <td>3.29</td>\n",
       "      <td>3.53</td>\n",
       "      <td>3.72</td>\n",
       "      <td>3.73</td>\n",
       "      <td>2.0</td>\n",
       "      <td>3.35</td>\n",
       "      <td>1</td>\n",
       "    </tr>\n",
       "    <tr>\n",
       "      <th>3</th>\n",
       "      <td>3.17</td>\n",
       "      <td>3.41</td>\n",
       "      <td>3.61</td>\n",
       "      <td>3.36</td>\n",
       "      <td>3.48</td>\n",
       "      <td>3.63</td>\n",
       "      <td>3.46</td>\n",
       "      <td>2.0</td>\n",
       "      <td>3.27</td>\n",
       "      <td>1</td>\n",
       "    </tr>\n",
       "    <tr>\n",
       "      <th>4</th>\n",
       "      <td>2.90</td>\n",
       "      <td>2.89</td>\n",
       "      <td>3.30</td>\n",
       "      <td>2.85</td>\n",
       "      <td>2.98</td>\n",
       "      <td>3.00</td>\n",
       "      <td>3.08</td>\n",
       "      <td>2.0</td>\n",
       "      <td>2.88</td>\n",
       "      <td>0</td>\n",
       "    </tr>\n",
       "  </tbody>\n",
       "</table>\n",
       "</div>"
      ],
      "text/plain": [
       "   IPS1  IPS2  IPS3  IPS4  IPS5  IPS6  IPS7  IPS8  IPK   Status Kelulusan\n",
       "0  2.76  2.80  3.20  3.17  2.98  3.00  3.03   2.0  2.87                 0\n",
       "1  3.00  3.30  3.14  3.14  2.84  3.13  3.25   2.0  2.98                 0\n",
       "2  3.50  3.30  3.70  3.29  3.53  3.72  3.73   2.0  3.35                 1\n",
       "3  3.17  3.41  3.61  3.36  3.48  3.63  3.46   2.0  3.27                 1\n",
       "4  2.90  2.89  3.30  2.85  2.98  3.00  3.08   2.0  2.88                 0"
      ]
     },
     "execution_count": 3,
     "metadata": {},
     "output_type": "execute_result"
    }
   ],
   "source": [
    "dataset.head()"
   ]
  },
  {
   "cell_type": "code",
   "execution_count": 4,
   "metadata": {},
   "outputs": [
    {
     "data": {
      "text/plain": [
       "(50, 10)"
      ]
     },
     "execution_count": 4,
     "metadata": {},
     "output_type": "execute_result"
    }
   ],
   "source": [
    "dataset.shape"
   ]
  },
  {
   "cell_type": "code",
   "execution_count": 5,
   "metadata": {},
   "outputs": [
    {
     "data": {
      "text/plain": [
       "0    25\n",
       "1    25\n",
       "Name: Status Kelulusan, dtype: int64"
      ]
     },
     "execution_count": 5,
     "metadata": {},
     "output_type": "execute_result"
    }
   ],
   "source": [
    "dataset['Status Kelulusan'].value_counts()"
   ]
  },
  {
   "cell_type": "code",
   "execution_count": 6,
   "metadata": {},
   "outputs": [],
   "source": [
    "x = dataset.drop(columns='Status Kelulusan', axis=1)\n",
    "y = dataset['Status Kelulusan']"
   ]
  },
  {
   "cell_type": "code",
   "execution_count": 7,
   "metadata": {},
   "outputs": [
    {
     "name": "stdout",
     "output_type": "stream",
     "text": [
      "    IPS1  IPS2  IPS3  IPS4  IPS5  IPS6  IPS7  IPS8  IPK \n",
      "0   2.76  2.80  3.20  3.17  2.98  3.00  3.03  2.00  2.87\n",
      "1   3.00  3.30  3.14  3.14  2.84  3.13  3.25  2.00  2.98\n",
      "2   3.50  3.30  3.70  3.29  3.53  3.72  3.73  2.00  3.35\n",
      "3   3.17  3.41  3.61  3.36  3.48  3.63  3.46  2.00  3.27\n",
      "4   2.90  2.89  3.30  2.85  2.98  3.00  3.08  2.00  2.88\n",
      "5   2.95  2.82  3.09  3.10  2.78  3.16  3.23  2.00  2.89\n",
      "6   2.76  3.14  2.60  2.95  3.23  3.33  3.30  3.30  3.08\n",
      "7   2.62  2.89  2.32  2.50  2.50  2.86  3.05  2.50  2.66\n",
      "8   3.60  3.54  3.52  3.39  3.52  3.68  3.15  2.00  3.30\n",
      "9   2.71  2.55  1.77  2.11  1.93  2.13  1.78  0.20  1.90\n",
      "10  3.14  3.46  3.40  3.43  3.27  3.15  3.81  4.00  3.46\n",
      "11  2.67  2.30  1.57  1.44  1.58  1.68  1.13  0.94  1.66\n",
      "12  2.57  2.82  2.20  2.45  2.10  2.42  1.00  1.42  2.12\n",
      "13  2.71  3.00  2.65  2.27  2.13  3.34  2.50  1.00  2.45\n",
      "14  3.24  3.38  3.44  3.30  3.56  3.45  3.35  3.35  3.38\n",
      "15  2.86  2.86  2.45  1.86  3.19  3.14  2.98  2.00  2.67\n",
      "16  2.71  3.27  2.54  3.36  3.23  3.28  3.15  2.00  2.94\n",
      "17  2.67  2.20  1.45  3.00  3.17  3.08  3.33  1.00  2.49\n",
      "18  2.67  2.68  1.95  1.61  2.36  2.21  0.78  0.92  1.90\n",
      "19  3.10  3.71  2.96  3.40  3.40  3.61  3.73  3.00  3.36\n",
      "20  3.00  3.33  2.88  2.80  3.36  3.07  3.43  4.00  3.23\n",
      "21  3.12  3.23  2.96  3.00  3.31  3.00  3.08  3.00  3.09\n",
      "22  2.90  3.32  2.83  2.91  3.30  2.83  3.27  4.00  3.17\n",
      "23  2.95  3.41  3.48  3.24  2.95  3.00  2.75  1.00  2.85\n",
      "24  3.05  2.92  2.27  2.65  3.00  3.45  3.24  2.00  2.82\n",
      "25  2.64  3.00  2.90  2.77  3.25  3.50  3.22  2.00  2.91\n",
      "26  2.45  2.45  2.14  1.95  1.82  2.66  1.61  1.00  2.01\n",
      "27  0.33  2.90  3.16  2.35  3.09  2.96  3.24  3.45  2.69\n",
      "28  3.33  3.63  3.29  3.89  3.60  3.13  3.35  3.35  3.45\n",
      "29  3.05  3.38  3.21  2.93  2.83  3.33  3.39  2.50  3.08\n",
      "30  2.52  2.75  2.25  2.50  2.64  2.87  3.20  2.00  2.59\n",
      "31  3.12  3.10  2.73  2.80  3.07  3.31  2.77  2.77  2.96\n",
      "32  2.71  3.16  2.44  2.91  3.02  2.98  3.36  3.21  2.97\n",
      "33  3.26  3.73  3.02  3.50  2.69  3.33  3.09  3.50  3.27\n",
      "34  2.71  2.89  2.75  3.18  3.19  3.22  3.73  3.00  3.08\n",
      "35  2.88  3.48  3.17  2.50  2.77  3.53  3.30  3.00  3.08\n",
      "36  3.02  3.63  3.42  3.37  3.15  3.27  3.63  3.00  3.31\n",
      "37  3.31  3.60  3.67  3.57  3.56  3.87  3.78  3.00  3.55\n",
      "38  2.48  2.48  2.23  2.09  1.45  2.42  2.05  2.58  2.22\n",
      "39  2.90  3.55  3.38  3.54  3.23  3.39  3.53  3.00  3.32\n",
      "40  2.83  3.61  3.18  3.23  3.02  3.20  3.18  3.00  3.16\n",
      "41  2.38  2.70  3.02  3.00  3.26  3.00  0.62  0.35  2.29\n",
      "42  3.24  3.83  3.65  3.61  3.69  3.73  3.70  3.00  3.56\n",
      "43  3.43  3.56  3.55  3.67  3.35  3.66  3.60  3.00  3.48\n",
      "44  3.76  3.81  3.17  3.63  3.81  3.81  3.70  3.00  3.59\n",
      "45  3.64  3.96  3.69  3.83  3.81  4.00  3.85  3.00  3.72\n",
      "46  3.05  2.35  3.39  2.50  2.84  2.40  1.67  3.00  2.65\n",
      "47  3.71  3.60  3.60  3.61  3.83  3.53  2.42  3.00  3.41\n",
      "48  3.00  2.83  3.57  3.26  3.83  3.33  2.43  3.00  3.16\n",
      "49  2.76  2.53  2.98  2.71  2.64  3.03  3.06  3.00  2.84\n"
     ]
    }
   ],
   "source": [
    "print(x)"
   ]
  },
  {
   "cell_type": "code",
   "execution_count": 8,
   "metadata": {},
   "outputs": [
    {
     "name": "stdout",
     "output_type": "stream",
     "text": [
      "0     0\n",
      "1     0\n",
      "2     1\n",
      "3     1\n",
      "4     0\n",
      "5     0\n",
      "6     1\n",
      "7     0\n",
      "8     1\n",
      "9     0\n",
      "10    1\n",
      "11    0\n",
      "12    0\n",
      "13    0\n",
      "14    1\n",
      "15    0\n",
      "16    0\n",
      "17    0\n",
      "18    0\n",
      "19    1\n",
      "20    1\n",
      "21    1\n",
      "22    1\n",
      "23    0\n",
      "24    0\n",
      "25    0\n",
      "26    0\n",
      "27    0\n",
      "28    1\n",
      "29    1\n",
      "30    0\n",
      "31    0\n",
      "32    0\n",
      "33    1\n",
      "34    1\n",
      "35    1\n",
      "36    1\n",
      "37    1\n",
      "38    0\n",
      "39    1\n",
      "40    1\n",
      "41    0\n",
      "42    1\n",
      "43    1\n",
      "44    1\n",
      "45    1\n",
      "46    0\n",
      "47    1\n",
      "48    1\n",
      "49    0\n",
      "Name: Status Kelulusan, dtype: int64\n"
     ]
    }
   ],
   "source": [
    "print(y)"
   ]
  },
  {
   "attachments": {},
   "cell_type": "markdown",
   "metadata": {},
   "source": [
    "3) Standarisasi Data"
   ]
  },
  {
   "cell_type": "code",
   "execution_count": 9,
   "metadata": {},
   "outputs": [],
   "source": [
    "x = dataset.drop(columns='Status Kelulusan', axis=1)\n",
    "y = dataset['Status Kelulusan']"
   ]
  },
  {
   "cell_type": "code",
   "execution_count": 10,
   "metadata": {},
   "outputs": [
    {
     "name": "stdout",
     "output_type": "stream",
     "text": [
      "    IPS1  IPS2  IPS3  IPS4  IPS5  IPS6  IPS7  IPS8  IPK \n",
      "0   2.76  2.80  3.20  3.17  2.98  3.00  3.03  2.00  2.87\n",
      "1   3.00  3.30  3.14  3.14  2.84  3.13  3.25  2.00  2.98\n",
      "2   3.50  3.30  3.70  3.29  3.53  3.72  3.73  2.00  3.35\n",
      "3   3.17  3.41  3.61  3.36  3.48  3.63  3.46  2.00  3.27\n",
      "4   2.90  2.89  3.30  2.85  2.98  3.00  3.08  2.00  2.88\n",
      "5   2.95  2.82  3.09  3.10  2.78  3.16  3.23  2.00  2.89\n",
      "6   2.76  3.14  2.60  2.95  3.23  3.33  3.30  3.30  3.08\n",
      "7   2.62  2.89  2.32  2.50  2.50  2.86  3.05  2.50  2.66\n",
      "8   3.60  3.54  3.52  3.39  3.52  3.68  3.15  2.00  3.30\n",
      "9   2.71  2.55  1.77  2.11  1.93  2.13  1.78  0.20  1.90\n",
      "10  3.14  3.46  3.40  3.43  3.27  3.15  3.81  4.00  3.46\n",
      "11  2.67  2.30  1.57  1.44  1.58  1.68  1.13  0.94  1.66\n",
      "12  2.57  2.82  2.20  2.45  2.10  2.42  1.00  1.42  2.12\n",
      "13  2.71  3.00  2.65  2.27  2.13  3.34  2.50  1.00  2.45\n",
      "14  3.24  3.38  3.44  3.30  3.56  3.45  3.35  3.35  3.38\n",
      "15  2.86  2.86  2.45  1.86  3.19  3.14  2.98  2.00  2.67\n",
      "16  2.71  3.27  2.54  3.36  3.23  3.28  3.15  2.00  2.94\n",
      "17  2.67  2.20  1.45  3.00  3.17  3.08  3.33  1.00  2.49\n",
      "18  2.67  2.68  1.95  1.61  2.36  2.21  0.78  0.92  1.90\n",
      "19  3.10  3.71  2.96  3.40  3.40  3.61  3.73  3.00  3.36\n",
      "20  3.00  3.33  2.88  2.80  3.36  3.07  3.43  4.00  3.23\n",
      "21  3.12  3.23  2.96  3.00  3.31  3.00  3.08  3.00  3.09\n",
      "22  2.90  3.32  2.83  2.91  3.30  2.83  3.27  4.00  3.17\n",
      "23  2.95  3.41  3.48  3.24  2.95  3.00  2.75  1.00  2.85\n",
      "24  3.05  2.92  2.27  2.65  3.00  3.45  3.24  2.00  2.82\n",
      "25  2.64  3.00  2.90  2.77  3.25  3.50  3.22  2.00  2.91\n",
      "26  2.45  2.45  2.14  1.95  1.82  2.66  1.61  1.00  2.01\n",
      "27  0.33  2.90  3.16  2.35  3.09  2.96  3.24  3.45  2.69\n",
      "28  3.33  3.63  3.29  3.89  3.60  3.13  3.35  3.35  3.45\n",
      "29  3.05  3.38  3.21  2.93  2.83  3.33  3.39  2.50  3.08\n",
      "30  2.52  2.75  2.25  2.50  2.64  2.87  3.20  2.00  2.59\n",
      "31  3.12  3.10  2.73  2.80  3.07  3.31  2.77  2.77  2.96\n",
      "32  2.71  3.16  2.44  2.91  3.02  2.98  3.36  3.21  2.97\n",
      "33  3.26  3.73  3.02  3.50  2.69  3.33  3.09  3.50  3.27\n",
      "34  2.71  2.89  2.75  3.18  3.19  3.22  3.73  3.00  3.08\n",
      "35  2.88  3.48  3.17  2.50  2.77  3.53  3.30  3.00  3.08\n",
      "36  3.02  3.63  3.42  3.37  3.15  3.27  3.63  3.00  3.31\n",
      "37  3.31  3.60  3.67  3.57  3.56  3.87  3.78  3.00  3.55\n",
      "38  2.48  2.48  2.23  2.09  1.45  2.42  2.05  2.58  2.22\n",
      "39  2.90  3.55  3.38  3.54  3.23  3.39  3.53  3.00  3.32\n",
      "40  2.83  3.61  3.18  3.23  3.02  3.20  3.18  3.00  3.16\n",
      "41  2.38  2.70  3.02  3.00  3.26  3.00  0.62  0.35  2.29\n",
      "42  3.24  3.83  3.65  3.61  3.69  3.73  3.70  3.00  3.56\n",
      "43  3.43  3.56  3.55  3.67  3.35  3.66  3.60  3.00  3.48\n",
      "44  3.76  3.81  3.17  3.63  3.81  3.81  3.70  3.00  3.59\n",
      "45  3.64  3.96  3.69  3.83  3.81  4.00  3.85  3.00  3.72\n",
      "46  3.05  2.35  3.39  2.50  2.84  2.40  1.67  3.00  2.65\n",
      "47  3.71  3.60  3.60  3.61  3.83  3.53  2.42  3.00  3.41\n",
      "48  3.00  2.83  3.57  3.26  3.83  3.33  2.43  3.00  3.16\n",
      "49  2.76  2.53  2.98  2.71  2.64  3.03  3.06  3.00  2.84\n",
      "0     0\n",
      "1     0\n",
      "2     1\n",
      "3     1\n",
      "4     0\n",
      "5     0\n",
      "6     1\n",
      "7     0\n",
      "8     1\n",
      "9     0\n",
      "10    1\n",
      "11    0\n",
      "12    0\n",
      "13    0\n",
      "14    1\n",
      "15    0\n",
      "16    0\n",
      "17    0\n",
      "18    0\n",
      "19    1\n",
      "20    1\n",
      "21    1\n",
      "22    1\n",
      "23    0\n",
      "24    0\n",
      "25    0\n",
      "26    0\n",
      "27    0\n",
      "28    1\n",
      "29    1\n",
      "30    0\n",
      "31    0\n",
      "32    0\n",
      "33    1\n",
      "34    1\n",
      "35    1\n",
      "36    1\n",
      "37    1\n",
      "38    0\n",
      "39    1\n",
      "40    1\n",
      "41    0\n",
      "42    1\n",
      "43    1\n",
      "44    1\n",
      "45    1\n",
      "46    0\n",
      "47    1\n",
      "48    1\n",
      "49    0\n",
      "Name: Status Kelulusan, dtype: int64\n"
     ]
    }
   ],
   "source": [
    "print(x)\n",
    "print (y)"
   ]
  },
  {
   "attachments": {},
   "cell_type": "markdown",
   "metadata": {},
   "source": [
    "4) Memisahkan data Mining Dengan Data Testing"
   ]
  },
  {
   "cell_type": "code",
   "execution_count": 11,
   "metadata": {},
   "outputs": [],
   "source": [
    "x_train, x_test, y_train, y_test = train_test_split(x, y, test_size=0.2 ,stratify= y, random_state=2)"
   ]
  },
  {
   "cell_type": "code",
   "execution_count": 12,
   "metadata": {},
   "outputs": [
    {
     "name": "stdout",
     "output_type": "stream",
     "text": [
      "(50, 9) (40, 9) (10, 9)\n"
     ]
    }
   ],
   "source": [
    "print(x.shape, x_train.shape, x_test.shape)"
   ]
  },
  {
   "attachments": {},
   "cell_type": "markdown",
   "metadata": {},
   "source": [
    "5) Membuat Data Latih Menggunakan Algoritma SVM"
   ]
  },
  {
   "cell_type": "code",
   "execution_count": 13,
   "metadata": {},
   "outputs": [],
   "source": [
    "clasifier = svm.SVC(kernel='linear')"
   ]
  },
  {
   "cell_type": "code",
   "execution_count": 14,
   "metadata": {},
   "outputs": [
    {
     "data": {
      "text/plain": [
       "SVC(kernel='linear')"
      ]
     },
     "execution_count": 14,
     "metadata": {},
     "output_type": "execute_result"
    }
   ],
   "source": [
    "clasifier.fit(x_train, y_train)"
   ]
  },
  {
   "attachments": {},
   "cell_type": "markdown",
   "metadata": {},
   "source": [
    "6)Membuat Model valuasi Untuk Mengukur Tingkat Akurasi"
   ]
  },
  {
   "cell_type": "code",
   "execution_count": 15,
   "metadata": {},
   "outputs": [],
   "source": [
    "x_train_prediction = clasifier.predict(x_train)\n",
    "training_data_accuracy = accuracy_score(x_train_prediction, y_train)"
   ]
  },
  {
   "cell_type": "code",
   "execution_count": 16,
   "metadata": {},
   "outputs": [
    {
     "name": "stdout",
     "output_type": "stream",
     "text": [
      "Akurasi Data Train nya Adalah =  0.975\n"
     ]
    }
   ],
   "source": [
    "print('Akurasi Data Train nya Adalah = ', training_data_accuracy)"
   ]
  },
  {
   "cell_type": "code",
   "execution_count": 17,
   "metadata": {},
   "outputs": [],
   "source": [
    "x_test_prediction = clasifier.predict(x_test)\n",
    "test_data_accuracry = accuracy_score(x_test_prediction, y_test)"
   ]
  },
  {
   "cell_type": "code",
   "execution_count": 18,
   "metadata": {},
   "outputs": [
    {
     "name": "stdout",
     "output_type": "stream",
     "text": [
      "Akurasi Data Testing Adalah= 1.0\n"
     ]
    }
   ],
   "source": [
    "print('Akurasi Data Testing Adalah=', test_data_accuracry)"
   ]
  },
  {
   "attachments": {},
   "cell_type": "markdown",
   "metadata": {},
   "source": [
    "7) Membuat Model Akurasi"
   ]
  },
  {
   "cell_type": "code",
   "execution_count": 22,
   "metadata": {},
   "outputs": [
    {
     "name": "stdout",
     "output_type": "stream",
     "text": [
      "[0]\n",
      "Mahasiswa Tidak Lulus\n"
     ]
    },
    {
     "name": "stderr",
     "output_type": "stream",
     "text": [
      "c:\\Users\\HP\\anaconda3\\lib\\site-packages\\sklearn\\base.py:450: UserWarning: X does not have valid feature names, but SVC was fitted with feature names\n",
      "  warnings.warn(\n"
     ]
    }
   ],
   "source": [
    "input_data = (2.76, 2.8, 3.2, 3.17, 2.98, 3, 3.03, 2, 2.87 )\n",
    "input_data_as_numpy_array = np.array(input_data)\n",
    "input_data_reshape = input_data_as_numpy_array.reshape(1,-1)\n",
    "prediction = clasifier.predict(input_data_reshape)\n",
    "print(prediction)\n",
    "if(prediction [0] == 0):\n",
    "    print('Mahasiswa Tidak Lulus')\n",
    "else :\n",
    "    print('Mahasiswa Lulus')"
   ]
  },
  {
   "attachments": {},
   "cell_type": "markdown",
   "metadata": {},
   "source": [
    "8. Simpan Model"
   ]
  },
  {
   "cell_type": "code",
   "execution_count": 20,
   "metadata": {},
   "outputs": [],
   "source": [
    "import pickle"
   ]
  },
  {
   "cell_type": "code",
   "execution_count": 21,
   "metadata": {},
   "outputs": [],
   "source": [
    "filename = 'rekap_siswa.sav'\n",
    "pickle.dump(clasifier, open(filename,'wb'))"
   ]
  }
 ],
 "metadata": {
  "kernelspec": {
   "display_name": "base",
   "language": "python",
   "name": "python3"
  },
  "language_info": {
   "codemirror_mode": {
    "name": "ipython",
    "version": 3
   },
   "file_extension": ".py",
   "mimetype": "text/x-python",
   "name": "python",
   "nbconvert_exporter": "python",
   "pygments_lexer": "ipython3",
   "version": "3.9.12"
  },
  "orig_nbformat": 4,
  "vscode": {
   "interpreter": {
    "hash": "dc07d24e2f18896857f0b2a651fe84ba40ce7b297e58d8804a308c8039f752a6"
   }
  }
 },
 "nbformat": 4,
 "nbformat_minor": 2
}
